{
 "cells": [
  {
   "cell_type": "markdown",
   "metadata": {},
   "source": [
    "# __Capstone Project__ - Bicycles Accident Analysis (Week 1)\n",
    "### **Mohammad Nurrokim** - Applied Data Science Capstone by IBM/Coursera \n",
    "\n",
    "<hr>"
   ]
  },
  {
   "cell_type": "markdown",
   "metadata": {},
   "source": [
    "<img src=\"https://images.pexels.com/photos/310983/pexels-photo-310983.jpeg?auto=compress&cs=tinysrgb&dpr=2&h=650&w=940\" width=800 height=800>\n",
    "\n",
    "<center><i>Now cyclists are increasing in several countries. Because, cycling is a safe alternative sport during a pandemic. But, we also need to pay attention to cycling safety on the road. </i></center>"
   ]
  },
  {
   "cell_type": "markdown",
   "metadata": {},
   "source": [
    "<h2>Table of contents</h2>\n",
    "\n",
    "<div class=\"alert alert-block alert-info\" style=\"margin-top: 20px\">\n",
    "    <ol>\n",
    "        <li><a href=\"#introduction\">Introduction: Business Problem</a></li>\n",
    "        <li><a href=\"#data\">Data</a></li>\n",
    "        <li><a href=\"#methodology\">Methodology</a></li>\n",
    "        <li><a href=\"#analysis\">Analysis</a></li>\n",
    "        <li><a href=\"#results\">Results and Discussion</a></li>\n",
    "        <li><a href=\"#conclusion\">Conclusion</a></li>\n",
    "    </ol>\n",
    "        \n",
    "</div>\n",
    " \n",
    "<hr>"
   ]
  },
  {
   "cell_type": "markdown",
   "metadata": {},
   "source": [
    "## __Introduction: Business Problem__ <a name=\"introduction\"></a>"
   ]
  },
  {
   "cell_type": "markdown",
   "metadata": {},
   "source": [
    "In this report, we will try to analyze the **best location and time** for cycling activities. Specifically, this project will be targeted at stakeholders who are interested in **cycling activities** such as individual cyclists, cycling communities, and also companies / sponsors / event organizers of cycling activities.\n",
    "\n",
    "During a pandemic, many people choose cycling as an alternative to sports. Cycling is considered the safest way to exercise because of minimal contact with other people. There are many accidents involving cyclists. Cyclists also need protection and a sense of security while on the road. Cycling is not only interpreted as a transportation activity, but also sports and recreational activities.\n",
    "\n",
    "When an accident occurs, in comparison, car drivers are still protected by car frames and car safety technology. So, the chances of surviving or being injured are still quite low compared to cyclists. Cyclists are only protected by wearing helmets on their heads. When an accident occurs, their bodies, feet and hands have the potential to be injured.\n",
    "\n",
    "This project will assist the Seattle Department of Transportation (SDOT) to provide extra traffic signs in accident-prone areas for cyclists. This project will also help the [cyclist community](http://wabikes.org/growing-bicycling/resources/bike-clubs-in-washington-state/) like **Cascade Bicylcle Club, COGS (Cyclists Of Greater Seattle), Brake the Cycle, etc.** to find out the right track and time to hold a cycling event.\n",
    "\n",
    "Many events are held by many cyclist communities. For example, Cascade Bicylcle Club. This club hosts **several major riding events** every year including Chilly Hilly, Seattle Bike-n-Brews, Ride for Major Taylor, Flying Wheels Summer Century, Woodinville Wine Ride, Seattle Night Ride, the Red-Bell 100, Seattle to Portland (STP), Ride from Seattle to Vancouver and Party (RSVP), Ride Around Washington (RAW), High Pass Challenge (HPC), and Kitsap Color Classic (KCC) ([Wikipedia](https://en.wikipedia.org/wiki/Cascade_Bicycle_Club#Major_events)). This project can help **companies, sponsors, and event organizers** to create **safe cycling events** for all participants."
   ]
  },
  {
   "cell_type": "markdown",
   "metadata": {},
   "source": [
    "<hr>\n",
    "\n",
    "## __Data__ <a name=\"data\"></a>"
   ]
  },
  {
   "cell_type": "markdown",
   "metadata": {},
   "source": [
    "Based on definition of our problem, features or columns that will influence our analysis are:\n",
    "1. **Location**: Latitude (X), Longitude (Y), Address Type (ADDRTYPE)\n",
    "2. **Severity**:  A code that corresponds to the severity of the collision (SEVERITYCODE), a detailed description of the severity of the collision (SEVERITYDESC)\n",
    "3. **Person Count**: Total number of people involved (PERSONCOUNT), number of bicycles involved in the collision  (PEDCYLCOUNT)\n",
    "4. **Injuries**: Number of total injuries (INJURIES), number of serious injuries (SERIOUSINJURIES), number of fatalities in the collision (FATALITIES)\n",
    "5. **Date**: The date of the incident (INCDATE)\n",
    "6. **Condition**: Description of the weather conditions (WEATHER), condition of the road (ROADCOND), light conditions during the collision (LIGHTCOND)"
   ]
  },
  {
   "cell_type": "markdown",
   "metadata": {},
   "source": [
    "<div class=\"alert alert-block alert-info\" style=\"margin-top: 10px\">\n",
    "    <h4>Attribute Information</h4>\n",
    "</div>\n",
    "\n",
    "| Attribute | Data Type, Length | Description |\n",
    "| --- | --- | ---|\n",
    "| OBJECTID | Long | ESRI unique identifier |\n",
    "| SHAPE | Geometry | ESRI geometry field |\n",
    "| INCKEY | Long | A unique key for the incident |\n",
    "| ADDRTYPE | Text, 12 | Collision address type: Alley, Block, Intersection |\n",
    "| INTKEY | Double | Key that corresponds to the intersection associated with a collision |\n",
    "| LOCATION | Text, 255 | Description of the general location of the collision |\n",
    "| EXCEPTRSNCODE | Text, 10 | |\n",
    "| EXCEPTRSNDESC | Text, 300 | |\n",
    "| SEVERITYCODE | Text, 100 | A code that corresponds to the severity of the collision: 3—fatality, 2b—serious injury, 2—injury, 1—prop damage, 0—unknown |\n",
    "| SEVERITYDESC | Text | A detailed description of the severity of the collision |\n",
    "| COLLISIONTYPE | Text, 300 | Collision Type |\n",
    "| PERSONCOUNT | Double | The total number of people involved in the collision |\n",
    "| PEDCOUNT | Double | The number of pedestrians involved in the collision. This is entered by the state. |\n",
    "| PEDCYLCOUNT | Double | The number of bicycles involved in the collision. This is entered by the state. |\n",
    "| VEHCOUNT | Double | The number of vehicles involved in the collision. This is entered by the state. |\n",
    "| INJURIES | Double | The number of total injuries in the collision. This is entered by the state. |\n",
    "| SERIOUSINJURIES | Double | The number of serious injuries in the collision. This is entered by the state. |\n",
    "| FATALITIES | Double | The number of fatalities in the collision. This is entered by the state. | \n",
    "| INCDATE | Date | The date of the incident. |\n",
    "| INCDTTM | Text, 30 | The date and time of the incident. |\n",
    "| JUNCTIONTYPE | Text, 300 | Category of junction at which collision took place |\n",
    "| SDOT_COLCODE | Text, 10 | A code given to the collision by SDOT. |\n",
    "| SDOT_COLDESC | Text, 300 | A description of the collision corresponding to the collision code. |\n",
    "| INATTENTIONIND | Text, 1 | Whether or not collision was due to inattention. (Y/N) |\n",
    "| UNDERINFL | Text, 10 | Whether or not a driver involved was under the influence of drugs or alcohol. |\n",
    "| WEATHER | Text, 300 | A description of the weather conditions during the time of the collision. |\n",
    "| ROADCOND | Text, 300 | The condition of the road during the collision. |\n",
    "| LIGHTCOND | Text, 300 | The light conditions during the collision. |\n",
    "| PEDROWNOTGRNT | Text, 1 | Whether or not the pedestrian right of way was not granted. (Y/N) |\n",
    "| SDOTCOLNUM | Text, 10 | A number given to the collision by SDOT. |\n",
    "| SPEEDING | Text, 1 | Whether or not speeding was a factor in the collision. (Y/N) |\n",
    "| ST_COLCODE | Text, 10 | A code provided by the state that describes the collision. For more information about these codes, please see the State Collision Code Dictionary. | \n",
    "| ST_COLDESC | Text, 300 | A description that corresponds to the state’s coding designation. |\n",
    "| SEGLANEKEY | Long | A key for the lane segment in which the collision occurred. |\n",
    "| CROSSWALKKEY | Long | A key for the crosswalk at which the collision occurred. |\n",
    "| HITPARKEDCAR | Text, 1 | Whether or not the collision involved hitting a parked car. (Y/N) |\n"
   ]
  },
  {
   "cell_type": "markdown",
   "metadata": {},
   "source": [
    "<div class=\"alert alert-block alert-info\" style=\"margin-top: 10px\">\n",
    "    <h4>Open Dataset</h4>\n",
    "</div>\n",
    "\n",
    "Open Data-Collisions.csv using pd.read_csv."
   ]
  },
  {
   "cell_type": "code",
   "execution_count": 4,
   "metadata": {},
   "outputs": [],
   "source": [
    "import pandas as pd\n",
    "import numpy as np\n",
    "pd.set_option('display.max_columns', None)"
   ]
  },
  {
   "cell_type": "code",
   "execution_count": 17,
   "metadata": {},
   "outputs": [
    {
     "name": "stderr",
     "output_type": "stream",
     "text": [
      "C:\\Users\\SONY Z\\AppData\\Local\\Programs\\Python\\Python38-32\\lib\\site-packages\\IPython\\core\\interactiveshell.py:3062: DtypeWarning: Columns (33) have mixed types.Specify dtype option on import or set low_memory=False.\n",
      "  has_raised = await self.run_ast_nodes(code_ast.body, cell_name,\n"
     ]
    }
   ],
   "source": [
    "data = pd.read_csv('Data-Collisions.csv')"
   ]
  },
  {
   "cell_type": "markdown",
   "metadata": {},
   "source": [
    "<div class=\"alert alert-block alert-info\" style=\"margin-top: 10px\">\n",
    "    <h4>Conditional Selection - Only show data that  bicycles involved in the collision</h4>\n",
    "</div>\n",
    "\n",
    "We only use a dataset involving cyclists. So the PEDCYLCOUNT column must be greater than zero."
   ]
  },
  {
   "cell_type": "code",
   "execution_count": 10,
   "metadata": {},
   "outputs": [
    {
     "data": {
      "text/html": [
       "<div>\n",
       "<style scoped>\n",
       "    .dataframe tbody tr th:only-of-type {\n",
       "        vertical-align: middle;\n",
       "    }\n",
       "\n",
       "    .dataframe tbody tr th {\n",
       "        vertical-align: top;\n",
       "    }\n",
       "\n",
       "    .dataframe thead th {\n",
       "        text-align: right;\n",
       "    }\n",
       "</style>\n",
       "<table border=\"1\" class=\"dataframe\">\n",
       "  <thead>\n",
       "    <tr style=\"text-align: right;\">\n",
       "      <th></th>\n",
       "      <th>SEVERITYCODE</th>\n",
       "      <th>X</th>\n",
       "      <th>Y</th>\n",
       "      <th>OBJECTID</th>\n",
       "      <th>INCKEY</th>\n",
       "      <th>COLDETKEY</th>\n",
       "      <th>REPORTNO</th>\n",
       "      <th>STATUS</th>\n",
       "      <th>ADDRTYPE</th>\n",
       "      <th>INTKEY</th>\n",
       "      <th>LOCATION</th>\n",
       "      <th>EXCEPTRSNCODE</th>\n",
       "      <th>EXCEPTRSNDESC</th>\n",
       "      <th>SEVERITYCODE.1</th>\n",
       "      <th>SEVERITYDESC</th>\n",
       "      <th>COLLISIONTYPE</th>\n",
       "      <th>PERSONCOUNT</th>\n",
       "      <th>PEDCOUNT</th>\n",
       "      <th>PEDCYLCOUNT</th>\n",
       "      <th>VEHCOUNT</th>\n",
       "      <th>INCDATE</th>\n",
       "      <th>INCDTTM</th>\n",
       "      <th>JUNCTIONTYPE</th>\n",
       "      <th>SDOT_COLCODE</th>\n",
       "      <th>SDOT_COLDESC</th>\n",
       "      <th>INATTENTIONIND</th>\n",
       "      <th>UNDERINFL</th>\n",
       "      <th>WEATHER</th>\n",
       "      <th>ROADCOND</th>\n",
       "      <th>LIGHTCOND</th>\n",
       "      <th>PEDROWNOTGRNT</th>\n",
       "      <th>SDOTCOLNUM</th>\n",
       "      <th>SPEEDING</th>\n",
       "      <th>ST_COLCODE</th>\n",
       "      <th>ST_COLDESC</th>\n",
       "      <th>SEGLANEKEY</th>\n",
       "      <th>CROSSWALKKEY</th>\n",
       "      <th>HITPARKEDCAR</th>\n",
       "    </tr>\n",
       "  </thead>\n",
       "  <tbody>\n",
       "    <tr>\n",
       "      <th>7</th>\n",
       "      <td>2</td>\n",
       "      <td>-122.320780</td>\n",
       "      <td>47.614076</td>\n",
       "      <td>9</td>\n",
       "      <td>330897</td>\n",
       "      <td>332397</td>\n",
       "      <td>EA30304</td>\n",
       "      <td>Matched</td>\n",
       "      <td>Intersection</td>\n",
       "      <td>29745.0</td>\n",
       "      <td>BROADWAY AND E PIKE ST</td>\n",
       "      <td></td>\n",
       "      <td>NaN</td>\n",
       "      <td>2</td>\n",
       "      <td>Injury Collision</td>\n",
       "      <td>Cycles</td>\n",
       "      <td>3</td>\n",
       "      <td>0</td>\n",
       "      <td>1</td>\n",
       "      <td>1</td>\n",
       "      <td>2020/04/15 00:00:00+00</td>\n",
       "      <td>4/15/2020 5:47:00 PM</td>\n",
       "      <td>At Intersection (intersection related)</td>\n",
       "      <td>51</td>\n",
       "      <td>PEDALCYCLIST STRUCK MOTOR VEHICLE FRONT END AT...</td>\n",
       "      <td>NaN</td>\n",
       "      <td>N</td>\n",
       "      <td>Clear</td>\n",
       "      <td>Dry</td>\n",
       "      <td>Daylight</td>\n",
       "      <td>NaN</td>\n",
       "      <td>NaN</td>\n",
       "      <td>NaN</td>\n",
       "      <td>5</td>\n",
       "      <td>Vehicle Strikes Pedalcyclist</td>\n",
       "      <td>6855</td>\n",
       "      <td>0</td>\n",
       "      <td>N</td>\n",
       "    </tr>\n",
       "    <tr>\n",
       "      <th>25</th>\n",
       "      <td>2</td>\n",
       "      <td>-122.312857</td>\n",
       "      <td>47.599218</td>\n",
       "      <td>34</td>\n",
       "      <td>320932</td>\n",
       "      <td>322432</td>\n",
       "      <td>E926429</td>\n",
       "      <td>Matched</td>\n",
       "      <td>Block</td>\n",
       "      <td>NaN</td>\n",
       "      <td>S JACKSON ST BETWEEN 14TH AVE S AND 16TH AVE S</td>\n",
       "      <td></td>\n",
       "      <td>NaN</td>\n",
       "      <td>2</td>\n",
       "      <td>Injury Collision</td>\n",
       "      <td>Cycles</td>\n",
       "      <td>2</td>\n",
       "      <td>0</td>\n",
       "      <td>1</td>\n",
       "      <td>1</td>\n",
       "      <td>2019/04/25 00:00:00+00</td>\n",
       "      <td>4/25/2019 9:40:00 AM</td>\n",
       "      <td>Mid-Block (not related to intersection)</td>\n",
       "      <td>18</td>\n",
       "      <td>MOTOR VEHICLE STRUCK PEDALCYCLIST, FRONT END A...</td>\n",
       "      <td>Y</td>\n",
       "      <td>N</td>\n",
       "      <td>Clear</td>\n",
       "      <td>Dry</td>\n",
       "      <td>Daylight</td>\n",
       "      <td>NaN</td>\n",
       "      <td>NaN</td>\n",
       "      <td>NaN</td>\n",
       "      <td>5</td>\n",
       "      <td>Vehicle Strikes Pedalcyclist</td>\n",
       "      <td>0</td>\n",
       "      <td>0</td>\n",
       "      <td>N</td>\n",
       "    </tr>\n",
       "    <tr>\n",
       "      <th>52</th>\n",
       "      <td>2</td>\n",
       "      <td>-122.328913</td>\n",
       "      <td>47.613466</td>\n",
       "      <td>62</td>\n",
       "      <td>1290</td>\n",
       "      <td>1290</td>\n",
       "      <td>3581633</td>\n",
       "      <td>Matched</td>\n",
       "      <td>Intersection</td>\n",
       "      <td>29878.0</td>\n",
       "      <td>BOREN AVE AND PIKE ST</td>\n",
       "      <td></td>\n",
       "      <td>NaN</td>\n",
       "      <td>2</td>\n",
       "      <td>Injury Collision</td>\n",
       "      <td>Cycles</td>\n",
       "      <td>3</td>\n",
       "      <td>0</td>\n",
       "      <td>1</td>\n",
       "      <td>1</td>\n",
       "      <td>2013/03/29 00:00:00+00</td>\n",
       "      <td>3/29/2013 11:53:00 AM</td>\n",
       "      <td>At Intersection (intersection related)</td>\n",
       "      <td>18</td>\n",
       "      <td>MOTOR VEHICLE STRUCK PEDALCYCLIST, FRONT END A...</td>\n",
       "      <td>NaN</td>\n",
       "      <td>N</td>\n",
       "      <td>Clear</td>\n",
       "      <td>Dry</td>\n",
       "      <td>Unknown</td>\n",
       "      <td>Y</td>\n",
       "      <td>NaN</td>\n",
       "      <td>NaN</td>\n",
       "      <td>45</td>\n",
       "      <td>Vehicle - Pedalcyclist</td>\n",
       "      <td>25242</td>\n",
       "      <td>0</td>\n",
       "      <td>N</td>\n",
       "    </tr>\n",
       "  </tbody>\n",
       "</table>\n",
       "</div>"
      ],
      "text/plain": [
       "    SEVERITYCODE           X          Y  OBJECTID  INCKEY  COLDETKEY REPORTNO  \\\n",
       "7              2 -122.320780  47.614076         9  330897     332397  EA30304   \n",
       "25             2 -122.312857  47.599218        34  320932     322432  E926429   \n",
       "52             2 -122.328913  47.613466        62    1290       1290  3581633   \n",
       "\n",
       "     STATUS      ADDRTYPE   INTKEY  \\\n",
       "7   Matched  Intersection  29745.0   \n",
       "25  Matched         Block      NaN   \n",
       "52  Matched  Intersection  29878.0   \n",
       "\n",
       "                                          LOCATION EXCEPTRSNCODE  \\\n",
       "7                           BROADWAY AND E PIKE ST                 \n",
       "25  S JACKSON ST BETWEEN 14TH AVE S AND 16TH AVE S                 \n",
       "52                           BOREN AVE AND PIKE ST                 \n",
       "\n",
       "   EXCEPTRSNDESC  SEVERITYCODE.1      SEVERITYDESC COLLISIONTYPE  PERSONCOUNT  \\\n",
       "7            NaN               2  Injury Collision        Cycles            3   \n",
       "25           NaN               2  Injury Collision        Cycles            2   \n",
       "52           NaN               2  Injury Collision        Cycles            3   \n",
       "\n",
       "    PEDCOUNT  PEDCYLCOUNT  VEHCOUNT                 INCDATE  \\\n",
       "7          0            1         1  2020/04/15 00:00:00+00   \n",
       "25         0            1         1  2019/04/25 00:00:00+00   \n",
       "52         0            1         1  2013/03/29 00:00:00+00   \n",
       "\n",
       "                  INCDTTM                             JUNCTIONTYPE  \\\n",
       "7    4/15/2020 5:47:00 PM   At Intersection (intersection related)   \n",
       "25   4/25/2019 9:40:00 AM  Mid-Block (not related to intersection)   \n",
       "52  3/29/2013 11:53:00 AM   At Intersection (intersection related)   \n",
       "\n",
       "    SDOT_COLCODE                                       SDOT_COLDESC  \\\n",
       "7             51  PEDALCYCLIST STRUCK MOTOR VEHICLE FRONT END AT...   \n",
       "25            18  MOTOR VEHICLE STRUCK PEDALCYCLIST, FRONT END A...   \n",
       "52            18  MOTOR VEHICLE STRUCK PEDALCYCLIST, FRONT END A...   \n",
       "\n",
       "   INATTENTIONIND UNDERINFL WEATHER ROADCOND LIGHTCOND PEDROWNOTGRNT  \\\n",
       "7             NaN         N   Clear      Dry  Daylight           NaN   \n",
       "25              Y         N   Clear      Dry  Daylight           NaN   \n",
       "52            NaN         N   Clear      Dry   Unknown             Y   \n",
       "\n",
       "    SDOTCOLNUM SPEEDING ST_COLCODE                    ST_COLDESC  SEGLANEKEY  \\\n",
       "7          NaN      NaN          5  Vehicle Strikes Pedalcyclist        6855   \n",
       "25         NaN      NaN          5  Vehicle Strikes Pedalcyclist           0   \n",
       "52         NaN      NaN         45        Vehicle - Pedalcyclist       25242   \n",
       "\n",
       "    CROSSWALKKEY HITPARKEDCAR  \n",
       "7              0            N  \n",
       "25             0            N  \n",
       "52             0            N  "
      ]
     },
     "execution_count": 10,
     "metadata": {},
     "output_type": "execute_result"
    }
   ],
   "source": [
    "# Conditional selection, column 'PEDCYLCOUNT' greater than 0\n",
    "df = data[data['PEDCYLCOUNT']>0]\n",
    "df.head(3)"
   ]
  },
  {
   "cell_type": "markdown",
   "metadata": {},
   "source": [
    "<div class=\"alert alert-block alert-info\" style=\"margin-top: 10px\">\n",
    "    <h4>DataFrame Shape</h4>\n",
    "</div>    \n",
    "\n",
    "The dataset used is (5484 rows, 38 columns). Not all columns will be used, will be selected according to the data description above."
   ]
  },
  {
   "cell_type": "code",
   "execution_count": 11,
   "metadata": {},
   "outputs": [
    {
     "data": {
      "text/plain": [
       "(5484, 38)"
      ]
     },
     "execution_count": 11,
     "metadata": {},
     "output_type": "execute_result"
    }
   ],
   "source": [
    "df.shape"
   ]
  },
  {
   "cell_type": "markdown",
   "metadata": {},
   "source": [
    "<div class=\"alert alert-block alert-info\" style=\"margin-top: 10px\">\n",
    "    <h4>DataFrame Data Type and Missing Values</h4>\n",
    "</div>\n",
    "\n",
    "In the description below, we will know the data types and missing values and their presentations."
   ]
  },
  {
   "cell_type": "code",
   "execution_count": 25,
   "metadata": {},
   "outputs": [
    {
     "name": "stdout",
     "output_type": "stream",
     "text": [
      "<class 'pandas.core.frame.DataFrame'>\n",
      "Int64Index: 5484 entries, 7 to 194671\n",
      "Data columns (total 38 columns):\n",
      " #   Column          Non-Null Count  Dtype  \n",
      "---  ------          --------------  -----  \n",
      " 0   SEVERITYCODE    5484 non-null   int64  \n",
      " 1   X               5447 non-null   float64\n",
      " 2   Y               5447 non-null   float64\n",
      " 3   OBJECTID        5484 non-null   int64  \n",
      " 4   INCKEY          5484 non-null   int64  \n",
      " 5   COLDETKEY       5484 non-null   int64  \n",
      " 6   REPORTNO        5484 non-null   object \n",
      " 7   STATUS          5484 non-null   object \n",
      " 8   ADDRTYPE        5480 non-null   object \n",
      " 9   INTKEY          3142 non-null   float64\n",
      " 10  LOCATION        5472 non-null   object \n",
      " 11  EXCEPTRSNCODE   3117 non-null   object \n",
      " 12  EXCEPTRSNDESC   87 non-null     object \n",
      " 13  SEVERITYCODE.1  5484 non-null   int64  \n",
      " 14  SEVERITYDESC    5484 non-null   object \n",
      " 15  COLLISIONTYPE   5468 non-null   object \n",
      " 16  PERSONCOUNT     5484 non-null   int64  \n",
      " 17  PEDCOUNT        5484 non-null   int64  \n",
      " 18  PEDCYLCOUNT     5484 non-null   int64  \n",
      " 19  VEHCOUNT        5484 non-null   int64  \n",
      " 20  INCDATE         5484 non-null   object \n",
      " 21  INCDTTM         5484 non-null   object \n",
      " 22  JUNCTIONTYPE    5445 non-null   object \n",
      " 23  SDOT_COLCODE    5484 non-null   int64  \n",
      " 24  SDOT_COLDESC    5484 non-null   object \n",
      " 25  INATTENTIONIND  890 non-null    object \n",
      " 26  UNDERINFL       5484 non-null   object \n",
      " 27  WEATHER         5479 non-null   object \n",
      " 28  ROADCOND        5479 non-null   object \n",
      " 29  LIGHTCOND       5478 non-null   object \n",
      " 30  PEDROWNOTGRNT   1740 non-null   object \n",
      " 31  SDOTCOLNUM      2779 non-null   float64\n",
      " 32  SPEEDING        122 non-null    object \n",
      " 33  ST_COLCODE      5468 non-null   object \n",
      " 34  ST_COLDESC      5468 non-null   object \n",
      " 35  SEGLANEKEY      5484 non-null   int64  \n",
      " 36  CROSSWALKKEY    5484 non-null   int64  \n",
      " 37  HITPARKEDCAR    5484 non-null   object \n",
      "dtypes: float64(4), int64(12), object(22)\n",
      "memory usage: 1.2+ MB\n"
     ]
    }
   ],
   "source": [
    "df.info()"
   ]
  },
  {
   "cell_type": "code",
   "execution_count": 21,
   "metadata": {},
   "outputs": [
    {
     "data": {
      "text/html": [
       "<div>\n",
       "<style scoped>\n",
       "    .dataframe tbody tr th:only-of-type {\n",
       "        vertical-align: middle;\n",
       "    }\n",
       "\n",
       "    .dataframe tbody tr th {\n",
       "        vertical-align: top;\n",
       "    }\n",
       "\n",
       "    .dataframe thead th {\n",
       "        text-align: right;\n",
       "    }\n",
       "</style>\n",
       "<table border=\"1\" class=\"dataframe\">\n",
       "  <thead>\n",
       "    <tr style=\"text-align: right;\">\n",
       "      <th></th>\n",
       "      <th>SEVERITYCODE</th>\n",
       "      <th>X</th>\n",
       "      <th>Y</th>\n",
       "      <th>OBJECTID</th>\n",
       "      <th>INCKEY</th>\n",
       "      <th>COLDETKEY</th>\n",
       "      <th>REPORTNO</th>\n",
       "      <th>STATUS</th>\n",
       "      <th>ADDRTYPE</th>\n",
       "      <th>INTKEY</th>\n",
       "      <th>LOCATION</th>\n",
       "      <th>EXCEPTRSNCODE</th>\n",
       "      <th>EXCEPTRSNDESC</th>\n",
       "      <th>SEVERITYCODE.1</th>\n",
       "      <th>SEVERITYDESC</th>\n",
       "      <th>COLLISIONTYPE</th>\n",
       "      <th>PERSONCOUNT</th>\n",
       "      <th>PEDCOUNT</th>\n",
       "      <th>PEDCYLCOUNT</th>\n",
       "      <th>VEHCOUNT</th>\n",
       "      <th>INCDATE</th>\n",
       "      <th>INCDTTM</th>\n",
       "      <th>JUNCTIONTYPE</th>\n",
       "      <th>SDOT_COLCODE</th>\n",
       "      <th>SDOT_COLDESC</th>\n",
       "      <th>INATTENTIONIND</th>\n",
       "      <th>UNDERINFL</th>\n",
       "      <th>WEATHER</th>\n",
       "      <th>ROADCOND</th>\n",
       "      <th>LIGHTCOND</th>\n",
       "      <th>PEDROWNOTGRNT</th>\n",
       "      <th>SDOTCOLNUM</th>\n",
       "      <th>SPEEDING</th>\n",
       "      <th>ST_COLCODE</th>\n",
       "      <th>ST_COLDESC</th>\n",
       "      <th>SEGLANEKEY</th>\n",
       "      <th>CROSSWALKKEY</th>\n",
       "      <th>HITPARKEDCAR</th>\n",
       "    </tr>\n",
       "  </thead>\n",
       "  <tbody>\n",
       "    <tr>\n",
       "      <th>Missing Values (%)</th>\n",
       "      <td>0.0</td>\n",
       "      <td>0.67</td>\n",
       "      <td>0.67</td>\n",
       "      <td>0.0</td>\n",
       "      <td>0.0</td>\n",
       "      <td>0.0</td>\n",
       "      <td>0.0</td>\n",
       "      <td>0.0</td>\n",
       "      <td>0.07</td>\n",
       "      <td>42.71</td>\n",
       "      <td>0.22</td>\n",
       "      <td>43.16</td>\n",
       "      <td>98.41</td>\n",
       "      <td>0.0</td>\n",
       "      <td>0.0</td>\n",
       "      <td>0.29</td>\n",
       "      <td>0.0</td>\n",
       "      <td>0.0</td>\n",
       "      <td>0.0</td>\n",
       "      <td>0.0</td>\n",
       "      <td>0.0</td>\n",
       "      <td>0.0</td>\n",
       "      <td>0.71</td>\n",
       "      <td>0.0</td>\n",
       "      <td>0.0</td>\n",
       "      <td>83.77</td>\n",
       "      <td>0.0</td>\n",
       "      <td>0.09</td>\n",
       "      <td>0.09</td>\n",
       "      <td>0.11</td>\n",
       "      <td>68.27</td>\n",
       "      <td>49.33</td>\n",
       "      <td>97.78</td>\n",
       "      <td>0.29</td>\n",
       "      <td>0.29</td>\n",
       "      <td>0.0</td>\n",
       "      <td>0.0</td>\n",
       "      <td>0.0</td>\n",
       "    </tr>\n",
       "  </tbody>\n",
       "</table>\n",
       "</div>"
      ],
      "text/plain": [
       "                    SEVERITYCODE     X     Y  OBJECTID  INCKEY  COLDETKEY  \\\n",
       "Missing Values (%)           0.0  0.67  0.67       0.0     0.0        0.0   \n",
       "\n",
       "                    REPORTNO  STATUS  ADDRTYPE  INTKEY  LOCATION  \\\n",
       "Missing Values (%)       0.0     0.0      0.07   42.71      0.22   \n",
       "\n",
       "                    EXCEPTRSNCODE  EXCEPTRSNDESC  SEVERITYCODE.1  \\\n",
       "Missing Values (%)          43.16          98.41             0.0   \n",
       "\n",
       "                    SEVERITYDESC  COLLISIONTYPE  PERSONCOUNT  PEDCOUNT  \\\n",
       "Missing Values (%)           0.0           0.29          0.0       0.0   \n",
       "\n",
       "                    PEDCYLCOUNT  VEHCOUNT  INCDATE  INCDTTM  JUNCTIONTYPE  \\\n",
       "Missing Values (%)          0.0       0.0      0.0      0.0          0.71   \n",
       "\n",
       "                    SDOT_COLCODE  SDOT_COLDESC  INATTENTIONIND  UNDERINFL  \\\n",
       "Missing Values (%)           0.0           0.0           83.77        0.0   \n",
       "\n",
       "                    WEATHER  ROADCOND  LIGHTCOND  PEDROWNOTGRNT  SDOTCOLNUM  \\\n",
       "Missing Values (%)     0.09      0.09       0.11          68.27       49.33   \n",
       "\n",
       "                    SPEEDING  ST_COLCODE  ST_COLDESC  SEGLANEKEY  \\\n",
       "Missing Values (%)     97.78        0.29        0.29         0.0   \n",
       "\n",
       "                    CROSSWALKKEY  HITPARKEDCAR  \n",
       "Missing Values (%)           0.0           0.0  "
      ]
     },
     "execution_count": 21,
     "metadata": {},
     "output_type": "execute_result"
    }
   ],
   "source": [
    "pd.DataFrame(data = [round(i/len(df) * 100, 2) for i in df.isna().sum().to_list()],\n",
    "            index = df.columns,\n",
    "            columns = ['Missing Values (%)']).T"
   ]
  },
  {
   "cell_type": "markdown",
   "metadata": {},
   "source": [
    "## __Methodology__ <a name=\"methodology\"></a>"
   ]
  },
  {
   "cell_type": "code",
   "execution_count": null,
   "metadata": {},
   "outputs": [],
   "source": [
    "# week 2"
   ]
  },
  {
   "cell_type": "markdown",
   "metadata": {},
   "source": [
    "## __Analysis__ <a name=\"analysis\"></a>"
   ]
  },
  {
   "cell_type": "code",
   "execution_count": null,
   "metadata": {},
   "outputs": [],
   "source": [
    "# week 2"
   ]
  },
  {
   "cell_type": "markdown",
   "metadata": {},
   "source": [
    "## __Results and Discussion__ <a name=\"results\"></a>"
   ]
  },
  {
   "cell_type": "code",
   "execution_count": null,
   "metadata": {},
   "outputs": [],
   "source": [
    "# week 2"
   ]
  },
  {
   "cell_type": "markdown",
   "metadata": {},
   "source": [
    "## __Conclusion__ <a name=\"conclusion\"></a>"
   ]
  },
  {
   "cell_type": "code",
   "execution_count": null,
   "metadata": {},
   "outputs": [],
   "source": [
    "# week 2"
   ]
  }
 ],
 "metadata": {
  "kernelspec": {
   "display_name": "Python 3.8.1 32-bit",
   "language": "python",
   "name": "python38132bitf9f79e71b62e4503b25567c1d3914456"
  },
  "language_info": {
   "codemirror_mode": {
    "name": "ipython",
    "version": 3
   },
   "file_extension": ".py",
   "mimetype": "text/x-python",
   "name": "python",
   "nbconvert_exporter": "python",
   "pygments_lexer": "ipython3",
   "version": "3.8.1"
  }
 },
 "nbformat": 4,
 "nbformat_minor": 4
}
